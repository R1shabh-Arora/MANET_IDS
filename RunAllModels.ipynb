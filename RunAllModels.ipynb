{
  "cells": [
    {
      "cell_type": "code",
      "execution_count": null,
      "metadata": {
        "id": "b97W9HBk7Gen"
      },
      "outputs": [],
      "source": [
        "import numpy as np\n",
        "import pandas as pd\n",
        "\n",
        "import matplotlib.pyplot as plt\n",
        "import seaborn as sns\n",
        "\n",
        "from sklearn.model_selection import train_test_split\n",
        "from sklearn.ensemble import RandomForestClassifier,GradientBoostingClassifier, AdaBoostClassifier, BaggingClassifier, ExtraTreesClassifier, HistGradientBoostingClassifier\n",
        "from sklearn.naive_bayes import GaussianNB\n",
        "from sklearn.neighbors import KNeighborsClassifier\n",
        "from sklearn.svm import SVC\n",
        "from sklearn.neural_network import MLPClassifier\n",
        "from sklearn.linear_model import LogisticRegression\n",
        "\n",
        "from sklearn.metrics import accuracy_score"
      ]
    },
    {
      "cell_type": "code",
      "execution_count": null,
      "metadata": {
        "id": "pj6rzs4m7Gep"
      },
      "outputs": [],
      "source": [
        "df = pd.read_csv('TrainingDataBinary.csv') # Customise this name to match the dataset name"
      ]
    },
    {
      "cell_type": "code",
      "execution_count": null,
      "metadata": {
        "id": "ugwJPf6L7Gep",
        "outputId": "8eab2bbf-8a30-479b-9464-3c7af771274c"
      },
      "outputs": [
        {
          "data": {
            "text/html": [
              "<div>\n",
              "<style scoped>\n",
              "    .dataframe tbody tr th:only-of-type {\n",
              "        vertical-align: middle;\n",
              "    }\n",
              "\n",
              "    .dataframe tbody tr th {\n",
              "        vertical-align: top;\n",
              "    }\n",
              "\n",
              "    .dataframe thead th {\n",
              "        text-align: right;\n",
              "    }\n",
              "</style>\n",
              "<table border=\"1\" class=\"dataframe\">\n",
              "  <thead>\n",
              "    <tr style=\"text-align: right;\">\n",
              "      <th></th>\n",
              "      <th>R1-PA1:VH</th>\n",
              "      <th>R1-PM1:V</th>\n",
              "      <th>R1-PA2:VH</th>\n",
              "      <th>R1-PM2:V</th>\n",
              "      <th>R1-PA3:VH</th>\n",
              "      <th>R1-PM3:V</th>\n",
              "      <th>R1-PA4:IH</th>\n",
              "      <th>R1-PM4:I</th>\n",
              "      <th>R1-PA5:IH</th>\n",
              "      <th>R1-PM5:I</th>\n",
              "      <th>...</th>\n",
              "      <th>control_panel_log4</th>\n",
              "      <th>relay1_log</th>\n",
              "      <th>relay2_log</th>\n",
              "      <th>relay3_log</th>\n",
              "      <th>relay4_log</th>\n",
              "      <th>snort_log1</th>\n",
              "      <th>snort_log2</th>\n",
              "      <th>snort_log3</th>\n",
              "      <th>snort_log4</th>\n",
              "      <th>marker</th>\n",
              "    </tr>\n",
              "  </thead>\n",
              "  <tbody>\n",
              "    <tr>\n",
              "      <th>0</th>\n",
              "      <td>66.445916</td>\n",
              "      <td>133715.7489</td>\n",
              "      <td>-53.537176</td>\n",
              "      <td>133715.7489</td>\n",
              "      <td>-173.531727</td>\n",
              "      <td>133790.9687</td>\n",
              "      <td>63.896253</td>\n",
              "      <td>589.79731</td>\n",
              "      <td>-60.464236</td>\n",
              "      <td>622.57400</td>\n",
              "      <td>...</td>\n",
              "      <td>0.0</td>\n",
              "      <td>0.0</td>\n",
              "      <td>0.0</td>\n",
              "      <td>0.0</td>\n",
              "      <td>0.0</td>\n",
              "      <td>0.0</td>\n",
              "      <td>0.0</td>\n",
              "      <td>0.0</td>\n",
              "      <td>0.0</td>\n",
              "      <td>0.0</td>\n",
              "    </tr>\n",
              "    <tr>\n",
              "      <th>1</th>\n",
              "      <td>59.908467</td>\n",
              "      <td>127622.9443</td>\n",
              "      <td>-60.068895</td>\n",
              "      <td>127597.8710</td>\n",
              "      <td>179.943125</td>\n",
              "      <td>127673.0908</td>\n",
              "      <td>55.089892</td>\n",
              "      <td>629.34907</td>\n",
              "      <td>-67.964254</td>\n",
              "      <td>654.06892</td>\n",
              "      <td>...</td>\n",
              "      <td>0.0</td>\n",
              "      <td>0.0</td>\n",
              "      <td>0.0</td>\n",
              "      <td>0.0</td>\n",
              "      <td>0.0</td>\n",
              "      <td>0.0</td>\n",
              "      <td>0.0</td>\n",
              "      <td>0.0</td>\n",
              "      <td>0.0</td>\n",
              "      <td>0.0</td>\n",
              "    </tr>\n",
              "    <tr>\n",
              "      <th>2</th>\n",
              "      <td>58.630771</td>\n",
              "      <td>127296.9918</td>\n",
              "      <td>-61.346591</td>\n",
              "      <td>127271.9185</td>\n",
              "      <td>178.659700</td>\n",
              "      <td>127372.2116</td>\n",
              "      <td>52.987137</td>\n",
              "      <td>638.68768</td>\n",
              "      <td>-69.494051</td>\n",
              "      <td>658.09734</td>\n",
              "      <td>...</td>\n",
              "      <td>0.0</td>\n",
              "      <td>0.0</td>\n",
              "      <td>0.0</td>\n",
              "      <td>0.0</td>\n",
              "      <td>0.0</td>\n",
              "      <td>0.0</td>\n",
              "      <td>0.0</td>\n",
              "      <td>0.0</td>\n",
              "      <td>0.0</td>\n",
              "      <td>0.0</td>\n",
              "    </tr>\n",
              "    <tr>\n",
              "      <th>3</th>\n",
              "      <td>62.996710</td>\n",
              "      <td>131534.3744</td>\n",
              "      <td>-56.980653</td>\n",
              "      <td>131509.3012</td>\n",
              "      <td>-176.969474</td>\n",
              "      <td>131609.5942</td>\n",
              "      <td>62.068518</td>\n",
              "      <td>448.25328</td>\n",
              "      <td>-61.237729</td>\n",
              "      <td>466.38117</td>\n",
              "      <td>...</td>\n",
              "      <td>0.0</td>\n",
              "      <td>0.0</td>\n",
              "      <td>0.0</td>\n",
              "      <td>0.0</td>\n",
              "      <td>0.0</td>\n",
              "      <td>0.0</td>\n",
              "      <td>0.0</td>\n",
              "      <td>0.0</td>\n",
              "      <td>0.0</td>\n",
              "      <td>0.0</td>\n",
              "    </tr>\n",
              "    <tr>\n",
              "      <th>4</th>\n",
              "      <td>64.314513</td>\n",
              "      <td>131333.7883</td>\n",
              "      <td>-55.680039</td>\n",
              "      <td>131308.7150</td>\n",
              "      <td>-175.668860</td>\n",
              "      <td>131434.0813</td>\n",
              "      <td>62.979521</td>\n",
              "      <td>451.54926</td>\n",
              "      <td>-59.616259</td>\n",
              "      <td>466.38117</td>\n",
              "      <td>...</td>\n",
              "      <td>0.0</td>\n",
              "      <td>0.0</td>\n",
              "      <td>0.0</td>\n",
              "      <td>0.0</td>\n",
              "      <td>0.0</td>\n",
              "      <td>0.0</td>\n",
              "      <td>0.0</td>\n",
              "      <td>0.0</td>\n",
              "      <td>0.0</td>\n",
              "      <td>0.0</td>\n",
              "    </tr>\n",
              "  </tbody>\n",
              "</table>\n",
              "<p>5 rows × 129 columns</p>\n",
              "</div>"
            ],
            "text/plain": [
              "   R1-PA1:VH     R1-PM1:V  R1-PA2:VH     R1-PM2:V   R1-PA3:VH     R1-PM3:V  \\\n",
              "0  66.445916  133715.7489 -53.537176  133715.7489 -173.531727  133790.9687   \n",
              "1  59.908467  127622.9443 -60.068895  127597.8710  179.943125  127673.0908   \n",
              "2  58.630771  127296.9918 -61.346591  127271.9185  178.659700  127372.2116   \n",
              "3  62.996710  131534.3744 -56.980653  131509.3012 -176.969474  131609.5942   \n",
              "4  64.314513  131333.7883 -55.680039  131308.7150 -175.668860  131434.0813   \n",
              "\n",
              "   R1-PA4:IH   R1-PM4:I  R1-PA5:IH   R1-PM5:I  ...  control_panel_log4  \\\n",
              "0  63.896253  589.79731 -60.464236  622.57400  ...                 0.0   \n",
              "1  55.089892  629.34907 -67.964254  654.06892  ...                 0.0   \n",
              "2  52.987137  638.68768 -69.494051  658.09734  ...                 0.0   \n",
              "3  62.068518  448.25328 -61.237729  466.38117  ...                 0.0   \n",
              "4  62.979521  451.54926 -59.616259  466.38117  ...                 0.0   \n",
              "\n",
              "   relay1_log  relay2_log  relay3_log  relay4_log  snort_log1  snort_log2  \\\n",
              "0         0.0         0.0         0.0         0.0         0.0         0.0   \n",
              "1         0.0         0.0         0.0         0.0         0.0         0.0   \n",
              "2         0.0         0.0         0.0         0.0         0.0         0.0   \n",
              "3         0.0         0.0         0.0         0.0         0.0         0.0   \n",
              "4         0.0         0.0         0.0         0.0         0.0         0.0   \n",
              "\n",
              "   snort_log3  snort_log4  marker  \n",
              "0         0.0         0.0     0.0  \n",
              "1         0.0         0.0     0.0  \n",
              "2         0.0         0.0     0.0  \n",
              "3         0.0         0.0     0.0  \n",
              "4         0.0         0.0     0.0  \n",
              "\n",
              "[5 rows x 129 columns]"
            ]
          },
          "execution_count": 3,
          "metadata": {},
          "output_type": "execute_result"
        }
      ],
      "source": [
        "df.head()"
      ]
    },
    {
      "cell_type": "code",
      "execution_count": null,
      "metadata": {
        "id": "1E8jVeDQ7Gep"
      },
      "outputs": [],
      "source": [
        "X = df.iloc[:,0:-1]\n",
        "y = df.iloc[:,-1]"
      ]
    },
    {
      "cell_type": "code",
      "execution_count": null,
      "metadata": {
        "id": "IYcQw6UJ7Gep"
      },
      "outputs": [],
      "source": [
        "X_train,X_test,y_train,y_test = train_test_split(X,y,test_size=0.2,random_state=42)"
      ]
    },
    {
      "cell_type": "code",
      "execution_count": null,
      "metadata": {
        "id": "G5OKqrg_7Geq",
        "outputId": "1961f48e-d75e-4e8a-b072-260d651910e3"
      },
      "outputs": [
        {
          "name": "stdout",
          "output_type": "stream",
          "text": [
            "(4800, 128)\n",
            "(1200, 128)\n"
          ]
        }
      ],
      "source": [
        "print(X_train.shape)\n",
        "print(X_test.shape)"
      ]
    },
    {
      "cell_type": "code",
      "execution_count": null,
      "metadata": {
        "id": "gAOvEB0Z7Geq"
      },
      "outputs": [],
      "source": [
        "rf = RandomForestClassifier()\n",
        "gb = GradientBoostingClassifier()\n",
        "svc = SVC()\n",
        "lr = LogisticRegression()\n",
        "ada = AdaBoostClassifier()\n",
        "bag = BaggingClassifier()\n",
        "et = ExtraTreesClassifier()\n",
        "hgbc = HistGradientBoostingClassifier()\n",
        "knn = KNeighborsClassifier()\n",
        "gnb = GaussianNB()\n",
        "mlp = MLPClassifier()\n"
      ]
    },
    {
      "cell_type": "code",
      "execution_count": null,
      "metadata": {
        "id": "6RdMcjPT7Geq",
        "outputId": "7b767952-7e9f-42ad-ce64-8479a302147e"
      },
      "outputs": [
        {
          "data": {
            "text/plain": [
              "0.985"
            ]
          },
          "execution_count": 8,
          "metadata": {},
          "output_type": "execute_result"
        }
      ],
      "source": [
        "rf.fit(X_train,y_train)\n",
        "y_pred = rf.predict(X_test)\n",
        "accuracy_score(y_test,y_pred)"
      ]
    },
    {
      "cell_type": "code",
      "execution_count": null,
      "metadata": {
        "id": "JlDC1GoC7Geq",
        "outputId": "0a4c1b32-e692-46c5-951e-6fc3fe13dd51"
      },
      "outputs": [
        {
          "data": {
            "text/plain": [
              "0.9416666666666667"
            ]
          },
          "execution_count": 9,
          "metadata": {},
          "output_type": "execute_result"
        }
      ],
      "source": [
        "gb.fit(X_train,y_train)\n",
        "y_pred = gb.predict(X_test)\n",
        "accuracy_score(y_test,y_pred)"
      ]
    },
    {
      "cell_type": "code",
      "execution_count": null,
      "metadata": {
        "id": "5gtDLTTk7Geq",
        "outputId": "db29aed9-d29d-41d9-9e05-b852c76c5d62"
      },
      "outputs": [
        {
          "data": {
            "text/plain": [
              "0.49833333333333335"
            ]
          },
          "execution_count": 10,
          "metadata": {},
          "output_type": "execute_result"
        }
      ],
      "source": [
        "svc.fit(X_train,y_train)\n",
        "y_pred = svc.predict(X_test)\n",
        "accuracy_score(y_test,y_pred)"
      ]
    },
    {
      "cell_type": "code",
      "execution_count": null,
      "metadata": {
        "id": "NY5ug-Pf7Geq",
        "outputId": "2cfdaf04-1740-4b01-89ee-66cb412a77d7"
      },
      "outputs": [
        {
          "name": "stderr",
          "output_type": "stream",
          "text": [
            "/Library/Frameworks/Python.framework/Versions/3.10/lib/python3.10/site-packages/sklearn/linear_model/_logistic.py:469: ConvergenceWarning: lbfgs failed to converge (status=1):\n",
            "STOP: TOTAL NO. of ITERATIONS REACHED LIMIT.\n",
            "\n",
            "Increase the number of iterations (max_iter) or scale the data as shown in:\n",
            "    https://scikit-learn.org/stable/modules/preprocessing.html\n",
            "Please also refer to the documentation for alternative solver options:\n",
            "    https://scikit-learn.org/stable/modules/linear_model.html#logistic-regression\n",
            "  n_iter_i = _check_optimize_result(\n"
          ]
        },
        {
          "data": {
            "text/plain": [
              "0.8916666666666667"
            ]
          },
          "execution_count": 11,
          "metadata": {},
          "output_type": "execute_result"
        }
      ],
      "source": [
        "lr.fit(X_train,y_train)\n",
        "y_pred = lr.predict(X_test)\n",
        "accuracy_score(y_test,y_pred)"
      ]
    },
    {
      "cell_type": "code",
      "execution_count": null,
      "metadata": {
        "id": "CqJwQur67Geq",
        "outputId": "01a8dad2-3ca1-4e26-81a8-76aeb51f665d"
      },
      "outputs": [
        {
          "name": "stderr",
          "output_type": "stream",
          "text": [
            "/Library/Frameworks/Python.framework/Versions/3.10/lib/python3.10/site-packages/sklearn/ensemble/_weight_boosting.py:519: FutureWarning: The SAMME.R algorithm (the default) is deprecated and will be removed in 1.6. Use the SAMME algorithm to circumvent this warning.\n",
            "  warnings.warn(\n"
          ]
        },
        {
          "data": {
            "text/plain": [
              "0.9291666666666667"
            ]
          },
          "execution_count": 12,
          "metadata": {},
          "output_type": "execute_result"
        }
      ],
      "source": [
        "ada.fit(X_train,y_train)\n",
        "y_pred = ada.predict(X_test)\n",
        "accuracy_score(y_test,y_pred)"
      ]
    },
    {
      "cell_type": "code",
      "execution_count": null,
      "metadata": {
        "id": "XTdlgEMj7Geq",
        "outputId": "9711deea-f4aa-4b71-b9bb-0f8fc1557eaf"
      },
      "outputs": [
        {
          "data": {
            "text/plain": [
              "0.97"
            ]
          },
          "execution_count": 13,
          "metadata": {},
          "output_type": "execute_result"
        }
      ],
      "source": [
        "bag.fit(X_train,y_train)\n",
        "y_pred = bag.predict(X_test)\n",
        "accuracy_score(y_test,y_pred)"
      ]
    },
    {
      "cell_type": "code",
      "execution_count": null,
      "metadata": {
        "id": "YlEIqYSK7Ger",
        "outputId": "630e0c16-9d13-4fb3-893f-e7931f4833d8"
      },
      "outputs": [
        {
          "data": {
            "text/plain": [
              "0.9875"
            ]
          },
          "execution_count": 14,
          "metadata": {},
          "output_type": "execute_result"
        }
      ],
      "source": [
        "et.fit(X_train,y_train)\n",
        "y_pred = et.predict(X_test)\n",
        "accuracy_score(y_test,y_pred)"
      ]
    },
    {
      "cell_type": "code",
      "execution_count": null,
      "metadata": {
        "id": "0yH05MLZ7Ger",
        "outputId": "92e35d84-a64f-4e68-bde0-877159b21191"
      },
      "outputs": [
        {
          "data": {
            "text/plain": [
              "0.9883333333333333"
            ]
          },
          "execution_count": 15,
          "metadata": {},
          "output_type": "execute_result"
        }
      ],
      "source": [
        "hgbc.fit(X_train,y_train)\n",
        "y_pred = hgbc.predict(X_test)\n",
        "accuracy_score(y_test,y_pred)"
      ]
    },
    {
      "cell_type": "code",
      "execution_count": null,
      "metadata": {
        "id": "LM0AM_Jp7Ger",
        "outputId": "96667e44-84c8-417f-aa85-9ff4929cca56"
      },
      "outputs": [
        {
          "data": {
            "text/plain": [
              "0.93"
            ]
          },
          "execution_count": 16,
          "metadata": {},
          "output_type": "execute_result"
        }
      ],
      "source": [
        "knn.fit(X_train,y_train)\n",
        "y_pred = knn.predict(X_test)\n",
        "accuracy_score(y_test,y_pred)"
      ]
    },
    {
      "cell_type": "code",
      "execution_count": null,
      "metadata": {
        "id": "3alpOYIC7Ger",
        "outputId": "48a43718-16ee-40cd-c33c-ff2838ed8598"
      },
      "outputs": [
        {
          "data": {
            "text/plain": [
              "0.5141666666666667"
            ]
          },
          "execution_count": 17,
          "metadata": {},
          "output_type": "execute_result"
        }
      ],
      "source": [
        "gnb.fit(X_train,y_train)\n",
        "y_pred = gnb.predict(X_test)\n",
        "accuracy_score(y_test,y_pred)"
      ]
    },
    {
      "cell_type": "code",
      "execution_count": null,
      "metadata": {
        "id": "ch-UrmUT7Ger",
        "outputId": "665b3c7e-678a-4ca2-8b43-99988e532838"
      },
      "outputs": [
        {
          "data": {
            "text/plain": [
              "0.5091666666666667"
            ]
          },
          "execution_count": 18,
          "metadata": {},
          "output_type": "execute_result"
        }
      ],
      "source": [
        "mlp.fit(X_train,y_train)\n",
        "y_pred = mlp.predict(X_test)\n",
        "accuracy_score(y_test,y_pred)"
      ]
    }
  ],
  "metadata": {
    "colab": {
      "provenance": []
    },
    "kernelspec": {
      "display_name": "Python 3",
      "language": "python",
      "name": "python3"
    },
    "language_info": {
      "codemirror_mode": {
        "name": "ipython",
        "version": 3
      },
      "file_extension": ".py",
      "mimetype": "text/x-python",
      "name": "python",
      "nbconvert_exporter": "python",
      "pygments_lexer": "ipython3",
      "version": "3.10.10"
    }
  },
  "nbformat": 4,
  "nbformat_minor": 0
}
